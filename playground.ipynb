{
 "cells": [
  {
   "cell_type": "code",
   "execution_count": 1,
   "metadata": {},
   "outputs": [],
   "source": [
    "import polars as pl\n",
    "quote_data = pl.read_parquet('quote_data.parquet')"
   ]
  },
  {
   "cell_type": "code",
   "execution_count": 2,
   "metadata": {},
   "outputs": [
    {
     "data": {
      "text/html": [
       "<div><style>\n",
       ".dataframe > thead > tr,\n",
       ".dataframe > tbody > tr {\n",
       "  text-align: right;\n",
       "  white-space: pre-wrap;\n",
       "}\n",
       "</style>\n",
       "<small>shape: (45_762_249, 11)</small><table border=\"1\" class=\"dataframe\"><thead><tr><th>ms_of_day</th><th>bid_size</th><th>bid_exchange</th><th>bid</th><th>bid_condition</th><th>ask_size</th><th>ask_exchange</th><th>ask</th><th>ask_condition</th><th>date</th><th>ticker</th></tr><tr><td>i64</td><td>i64</td><td>i64</td><td>f64</td><td>i64</td><td>i64</td><td>i64</td><td>f64</td><td>i64</td><td>date</td><td>str</td></tr></thead><tbody><tr><td>34200000</td><td>47</td><td>1</td><td>5.83</td><td>0</td><td>59</td><td>60</td><td>5.91</td><td>0</td><td>2020-01-02</td><td>&quot;WEAT&quot;</td></tr><tr><td>34260000</td><td>15</td><td>7</td><td>5.86</td><td>0</td><td>65</td><td>60</td><td>5.87</td><td>0</td><td>2020-01-02</td><td>&quot;WEAT&quot;</td></tr><tr><td>34320000</td><td>15</td><td>7</td><td>5.86</td><td>0</td><td>182</td><td>7</td><td>5.87</td><td>0</td><td>2020-01-02</td><td>&quot;WEAT&quot;</td></tr><tr><td>34380000</td><td>119</td><td>7</td><td>5.86</td><td>0</td><td>3</td><td>7</td><td>5.87</td><td>0</td><td>2020-01-02</td><td>&quot;WEAT&quot;</td></tr><tr><td>34440000</td><td>15</td><td>68</td><td>5.86</td><td>0</td><td>180</td><td>7</td><td>5.87</td><td>0</td><td>2020-01-02</td><td>&quot;WEAT&quot;</td></tr><tr><td>&hellip;</td><td>&hellip;</td><td>&hellip;</td><td>&hellip;</td><td>&hellip;</td><td>&hellip;</td><td>&hellip;</td><td>&hellip;</td><td>&hellip;</td><td>&hellip;</td><td>&hellip;</td></tr><tr><td>57360000</td><td>168</td><td>7</td><td>112.88</td><td>0</td><td>148</td><td>7</td><td>112.89</td><td>0</td><td>2024-09-10</td><td>&quot;LQD&quot;</td></tr><tr><td>57420000</td><td>225</td><td>7</td><td>112.89</td><td>0</td><td>33</td><td>73</td><td>112.9</td><td>0</td><td>2024-09-10</td><td>&quot;LQD&quot;</td></tr><tr><td>57480000</td><td>191</td><td>7</td><td>112.9</td><td>0</td><td>140</td><td>7</td><td>112.91</td><td>0</td><td>2024-09-10</td><td>&quot;LQD&quot;</td></tr><tr><td>57540000</td><td>34</td><td>7</td><td>112.88</td><td>0</td><td>179</td><td>7</td><td>112.89</td><td>0</td><td>2024-09-10</td><td>&quot;LQD&quot;</td></tr><tr><td>57600000</td><td>49</td><td>7</td><td>112.88</td><td>0</td><td>390</td><td>7</td><td>112.89</td><td>0</td><td>2024-09-10</td><td>&quot;LQD&quot;</td></tr></tbody></table></div>"
      ],
      "text/plain": [
       "shape: (45_762_249, 11)\n",
       "┌───────────┬──────────┬──────────────┬────────┬───┬────────┬───────────────┬────────────┬────────┐\n",
       "│ ms_of_day ┆ bid_size ┆ bid_exchange ┆ bid    ┆ … ┆ ask    ┆ ask_condition ┆ date       ┆ ticker │\n",
       "│ ---       ┆ ---      ┆ ---          ┆ ---    ┆   ┆ ---    ┆ ---           ┆ ---        ┆ ---    │\n",
       "│ i64       ┆ i64      ┆ i64          ┆ f64    ┆   ┆ f64    ┆ i64           ┆ date       ┆ str    │\n",
       "╞═══════════╪══════════╪══════════════╪════════╪═══╪════════╪═══════════════╪════════════╪════════╡\n",
       "│ 34200000  ┆ 47       ┆ 1            ┆ 5.83   ┆ … ┆ 5.91   ┆ 0             ┆ 2020-01-02 ┆ WEAT   │\n",
       "│ 34260000  ┆ 15       ┆ 7            ┆ 5.86   ┆ … ┆ 5.87   ┆ 0             ┆ 2020-01-02 ┆ WEAT   │\n",
       "│ 34320000  ┆ 15       ┆ 7            ┆ 5.86   ┆ … ┆ 5.87   ┆ 0             ┆ 2020-01-02 ┆ WEAT   │\n",
       "│ 34380000  ┆ 119      ┆ 7            ┆ 5.86   ┆ … ┆ 5.87   ┆ 0             ┆ 2020-01-02 ┆ WEAT   │\n",
       "│ 34440000  ┆ 15       ┆ 68           ┆ 5.86   ┆ … ┆ 5.87   ┆ 0             ┆ 2020-01-02 ┆ WEAT   │\n",
       "│ …         ┆ …        ┆ …            ┆ …      ┆ … ┆ …      ┆ …             ┆ …          ┆ …      │\n",
       "│ 57360000  ┆ 168      ┆ 7            ┆ 112.88 ┆ … ┆ 112.89 ┆ 0             ┆ 2024-09-10 ┆ LQD    │\n",
       "│ 57420000  ┆ 225      ┆ 7            ┆ 112.89 ┆ … ┆ 112.9  ┆ 0             ┆ 2024-09-10 ┆ LQD    │\n",
       "│ 57480000  ┆ 191      ┆ 7            ┆ 112.9  ┆ … ┆ 112.91 ┆ 0             ┆ 2024-09-10 ┆ LQD    │\n",
       "│ 57540000  ┆ 34       ┆ 7            ┆ 112.88 ┆ … ┆ 112.89 ┆ 0             ┆ 2024-09-10 ┆ LQD    │\n",
       "│ 57600000  ┆ 49       ┆ 7            ┆ 112.88 ┆ … ┆ 112.89 ┆ 0             ┆ 2024-09-10 ┆ LQD    │\n",
       "└───────────┴──────────┴──────────────┴────────┴───┴────────┴───────────────┴────────────┴────────┘"
      ]
     },
     "execution_count": 2,
     "metadata": {},
     "output_type": "execute_result"
    }
   ],
   "source": [
    "quote_data"
   ]
  },
  {
   "cell_type": "code",
   "execution_count": 5,
   "metadata": {},
   "outputs": [],
   "source": [
    "from datetime import datetime"
   ]
  },
  {
   "cell_type": "code",
   "execution_count": 12,
   "metadata": {},
   "outputs": [
    {
     "data": {
      "text/html": [
       "<div><style>\n",
       ".dataframe > thead > tr,\n",
       ".dataframe > tbody > tr {\n",
       "  text-align: right;\n",
       "  white-space: pre-wrap;\n",
       "}\n",
       "</style>\n",
       "<small>shape: (493_833, 11)</small><table border=\"1\" class=\"dataframe\"><thead><tr><th>ms_of_day</th><th>bid_size</th><th>bid_exchange</th><th>bid</th><th>bid_condition</th><th>ask_size</th><th>ask_exchange</th><th>ask</th><th>ask_condition</th><th>date</th><th>ticker</th></tr><tr><td>i64</td><td>i64</td><td>i64</td><td>f64</td><td>i64</td><td>i64</td><td>i64</td><td>f64</td><td>i64</td><td>date</td><td>str</td></tr></thead><tbody><tr><td>34200000</td><td>1</td><td>1</td><td>206.25</td><td>0</td><td>1</td><td>7</td><td>206.3</td><td>0</td><td>2019-09-03</td><td>&quot;AAPL&quot;</td></tr><tr><td>34260000</td><td>5</td><td>60</td><td>206.41</td><td>0</td><td>2</td><td>60</td><td>206.47</td><td>0</td><td>2019-09-03</td><td>&quot;AAPL&quot;</td></tr><tr><td>34320000</td><td>1</td><td>8</td><td>206.32</td><td>0</td><td>5</td><td>60</td><td>206.39</td><td>0</td><td>2019-09-03</td><td>&quot;AAPL&quot;</td></tr><tr><td>34380000</td><td>1</td><td>65</td><td>206.17</td><td>0</td><td>1</td><td>65</td><td>206.19</td><td>0</td><td>2019-09-03</td><td>&quot;AAPL&quot;</td></tr><tr><td>34440000</td><td>2</td><td>60</td><td>206.03</td><td>0</td><td>1</td><td>65</td><td>206.07</td><td>0</td><td>2019-09-03</td><td>&quot;AAPL&quot;</td></tr><tr><td>&hellip;</td><td>&hellip;</td><td>&hellip;</td><td>&hellip;</td><td>&hellip;</td><td>&hellip;</td><td>&hellip;</td><td>&hellip;</td><td>&hellip;</td><td>&hellip;</td><td>&hellip;</td></tr><tr><td>57360000</td><td>4</td><td>68</td><td>220.01</td><td>0</td><td>3</td><td>1</td><td>220.03</td><td>0</td><td>2024-09-10</td><td>&quot;AAPL&quot;</td></tr><tr><td>57420000</td><td>2</td><td>1</td><td>220.21</td><td>0</td><td>7</td><td>1</td><td>220.22</td><td>0</td><td>2024-09-10</td><td>&quot;AAPL&quot;</td></tr><tr><td>57480000</td><td>1</td><td>1</td><td>220.19</td><td>0</td><td>3</td><td>1</td><td>220.2</td><td>0</td><td>2024-09-10</td><td>&quot;AAPL&quot;</td></tr><tr><td>57540000</td><td>1</td><td>43</td><td>220.27</td><td>0</td><td>4</td><td>1</td><td>220.28</td><td>0</td><td>2024-09-10</td><td>&quot;AAPL&quot;</td></tr><tr><td>57600000</td><td>1</td><td>7</td><td>220.12</td><td>0</td><td>1</td><td>1</td><td>220.16</td><td>0</td><td>2024-09-10</td><td>&quot;AAPL&quot;</td></tr></tbody></table></div>"
      ],
      "text/plain": [
       "shape: (493_833, 11)\n",
       "┌───────────┬──────────┬──────────────┬────────┬───┬────────┬───────────────┬────────────┬────────┐\n",
       "│ ms_of_day ┆ bid_size ┆ bid_exchange ┆ bid    ┆ … ┆ ask    ┆ ask_condition ┆ date       ┆ ticker │\n",
       "│ ---       ┆ ---      ┆ ---          ┆ ---    ┆   ┆ ---    ┆ ---           ┆ ---        ┆ ---    │\n",
       "│ i64       ┆ i64      ┆ i64          ┆ f64    ┆   ┆ f64    ┆ i64           ┆ date       ┆ str    │\n",
       "╞═══════════╪══════════╪══════════════╪════════╪═══╪════════╪═══════════════╪════════════╪════════╡\n",
       "│ 34200000  ┆ 1        ┆ 1            ┆ 206.25 ┆ … ┆ 206.3  ┆ 0             ┆ 2019-09-03 ┆ AAPL   │\n",
       "│ 34260000  ┆ 5        ┆ 60           ┆ 206.41 ┆ … ┆ 206.47 ┆ 0             ┆ 2019-09-03 ┆ AAPL   │\n",
       "│ 34320000  ┆ 1        ┆ 8            ┆ 206.32 ┆ … ┆ 206.39 ┆ 0             ┆ 2019-09-03 ┆ AAPL   │\n",
       "│ 34380000  ┆ 1        ┆ 65           ┆ 206.17 ┆ … ┆ 206.19 ┆ 0             ┆ 2019-09-03 ┆ AAPL   │\n",
       "│ 34440000  ┆ 2        ┆ 60           ┆ 206.03 ┆ … ┆ 206.07 ┆ 0             ┆ 2019-09-03 ┆ AAPL   │\n",
       "│ …         ┆ …        ┆ …            ┆ …      ┆ … ┆ …      ┆ …             ┆ …          ┆ …      │\n",
       "│ 57360000  ┆ 4        ┆ 68           ┆ 220.01 ┆ … ┆ 220.03 ┆ 0             ┆ 2024-09-10 ┆ AAPL   │\n",
       "│ 57420000  ┆ 2        ┆ 1            ┆ 220.21 ┆ … ┆ 220.22 ┆ 0             ┆ 2024-09-10 ┆ AAPL   │\n",
       "│ 57480000  ┆ 1        ┆ 1            ┆ 220.19 ┆ … ┆ 220.2  ┆ 0             ┆ 2024-09-10 ┆ AAPL   │\n",
       "│ 57540000  ┆ 1        ┆ 43           ┆ 220.27 ┆ … ┆ 220.28 ┆ 0             ┆ 2024-09-10 ┆ AAPL   │\n",
       "│ 57600000  ┆ 1        ┆ 7            ┆ 220.12 ┆ … ┆ 220.16 ┆ 0             ┆ 2024-09-10 ┆ AAPL   │\n",
       "└───────────┴──────────┴──────────────┴────────┴───┴────────┴───────────────┴────────────┴────────┘"
      ]
     },
     "execution_count": 12,
     "metadata": {},
     "output_type": "execute_result"
    }
   ],
   "source": [
    "quote_data.filter(pl.col('ticker')=='AAPL')"
   ]
  },
  {
   "cell_type": "code",
   "execution_count": 15,
   "metadata": {},
   "outputs": [
    {
     "data": {
      "text/plain": [
       "493833"
      ]
     },
     "execution_count": 15,
     "metadata": {},
     "output_type": "execute_result"
    }
   ],
   "source": [
    "391*1263"
   ]
  },
  {
   "cell_type": "code",
   "execution_count": 14,
   "metadata": {},
   "outputs": [
    {
     "data": {
      "text/html": [
       "<div><style>\n",
       ".dataframe > thead > tr,\n",
       ".dataframe > tbody > tr {\n",
       "  text-align: right;\n",
       "  white-space: pre-wrap;\n",
       "}\n",
       "</style>\n",
       "<small>shape: (391, 11)</small><table border=\"1\" class=\"dataframe\"><thead><tr><th>ms_of_day</th><th>bid_size</th><th>bid_exchange</th><th>bid</th><th>bid_condition</th><th>ask_size</th><th>ask_exchange</th><th>ask</th><th>ask_condition</th><th>date</th><th>ticker</th></tr><tr><td>i64</td><td>i64</td><td>i64</td><td>f64</td><td>i64</td><td>i64</td><td>i64</td><td>f64</td><td>i64</td><td>date</td><td>str</td></tr></thead><tbody><tr><td>34200000</td><td>1</td><td>1</td><td>206.25</td><td>0</td><td>1</td><td>7</td><td>206.3</td><td>0</td><td>2019-09-03</td><td>&quot;AAPL&quot;</td></tr><tr><td>34260000</td><td>5</td><td>60</td><td>206.41</td><td>0</td><td>2</td><td>60</td><td>206.47</td><td>0</td><td>2019-09-03</td><td>&quot;AAPL&quot;</td></tr><tr><td>34320000</td><td>1</td><td>8</td><td>206.32</td><td>0</td><td>5</td><td>60</td><td>206.39</td><td>0</td><td>2019-09-03</td><td>&quot;AAPL&quot;</td></tr><tr><td>34380000</td><td>1</td><td>65</td><td>206.17</td><td>0</td><td>1</td><td>65</td><td>206.19</td><td>0</td><td>2019-09-03</td><td>&quot;AAPL&quot;</td></tr><tr><td>34440000</td><td>2</td><td>60</td><td>206.03</td><td>0</td><td>1</td><td>65</td><td>206.07</td><td>0</td><td>2019-09-03</td><td>&quot;AAPL&quot;</td></tr><tr><td>&hellip;</td><td>&hellip;</td><td>&hellip;</td><td>&hellip;</td><td>&hellip;</td><td>&hellip;</td><td>&hellip;</td><td>&hellip;</td><td>&hellip;</td><td>&hellip;</td><td>&hellip;</td></tr><tr><td>57360000</td><td>9</td><td>1</td><td>205.79</td><td>0</td><td>5</td><td>1</td><td>205.81</td><td>0</td><td>2019-09-03</td><td>&quot;AAPL&quot;</td></tr><tr><td>57420000</td><td>3</td><td>1</td><td>205.66</td><td>0</td><td>2</td><td>1</td><td>205.67</td><td>0</td><td>2019-09-03</td><td>&quot;AAPL&quot;</td></tr><tr><td>57480000</td><td>6</td><td>3</td><td>205.72</td><td>0</td><td>1</td><td>7</td><td>205.74</td><td>0</td><td>2019-09-03</td><td>&quot;AAPL&quot;</td></tr><tr><td>57540000</td><td>2</td><td>60</td><td>205.63</td><td>0</td><td>6</td><td>7</td><td>205.65</td><td>0</td><td>2019-09-03</td><td>&quot;AAPL&quot;</td></tr><tr><td>57600000</td><td>1</td><td>1</td><td>205.63</td><td>0</td><td>1</td><td>1</td><td>205.81</td><td>0</td><td>2019-09-03</td><td>&quot;AAPL&quot;</td></tr></tbody></table></div>"
      ],
      "text/plain": [
       "shape: (391, 11)\n",
       "┌───────────┬──────────┬──────────────┬────────┬───┬────────┬───────────────┬────────────┬────────┐\n",
       "│ ms_of_day ┆ bid_size ┆ bid_exchange ┆ bid    ┆ … ┆ ask    ┆ ask_condition ┆ date       ┆ ticker │\n",
       "│ ---       ┆ ---      ┆ ---          ┆ ---    ┆   ┆ ---    ┆ ---           ┆ ---        ┆ ---    │\n",
       "│ i64       ┆ i64      ┆ i64          ┆ f64    ┆   ┆ f64    ┆ i64           ┆ date       ┆ str    │\n",
       "╞═══════════╪══════════╪══════════════╪════════╪═══╪════════╪═══════════════╪════════════╪════════╡\n",
       "│ 34200000  ┆ 1        ┆ 1            ┆ 206.25 ┆ … ┆ 206.3  ┆ 0             ┆ 2019-09-03 ┆ AAPL   │\n",
       "│ 34260000  ┆ 5        ┆ 60           ┆ 206.41 ┆ … ┆ 206.47 ┆ 0             ┆ 2019-09-03 ┆ AAPL   │\n",
       "│ 34320000  ┆ 1        ┆ 8            ┆ 206.32 ┆ … ┆ 206.39 ┆ 0             ┆ 2019-09-03 ┆ AAPL   │\n",
       "│ 34380000  ┆ 1        ┆ 65           ┆ 206.17 ┆ … ┆ 206.19 ┆ 0             ┆ 2019-09-03 ┆ AAPL   │\n",
       "│ 34440000  ┆ 2        ┆ 60           ┆ 206.03 ┆ … ┆ 206.07 ┆ 0             ┆ 2019-09-03 ┆ AAPL   │\n",
       "│ …         ┆ …        ┆ …            ┆ …      ┆ … ┆ …      ┆ …             ┆ …          ┆ …      │\n",
       "│ 57360000  ┆ 9        ┆ 1            ┆ 205.79 ┆ … ┆ 205.81 ┆ 0             ┆ 2019-09-03 ┆ AAPL   │\n",
       "│ 57420000  ┆ 3        ┆ 1            ┆ 205.66 ┆ … ┆ 205.67 ┆ 0             ┆ 2019-09-03 ┆ AAPL   │\n",
       "│ 57480000  ┆ 6        ┆ 3            ┆ 205.72 ┆ … ┆ 205.74 ┆ 0             ┆ 2019-09-03 ┆ AAPL   │\n",
       "│ 57540000  ┆ 2        ┆ 60           ┆ 205.63 ┆ … ┆ 205.65 ┆ 0             ┆ 2019-09-03 ┆ AAPL   │\n",
       "│ 57600000  ┆ 1        ┆ 1            ┆ 205.63 ┆ … ┆ 205.81 ┆ 0             ┆ 2019-09-03 ┆ AAPL   │\n",
       "└───────────┴──────────┴──────────────┴────────┴───┴────────┴───────────────┴────────────┴────────┘"
      ]
     },
     "execution_count": 14,
     "metadata": {},
     "output_type": "execute_result"
    }
   ],
   "source": [
    "quote_data.filter((pl.col('date')==pl.date(2019, 9, 3))&(pl.col('ticker')=='AAPL'))"
   ]
  },
  {
   "cell_type": "code",
   "execution_count": null,
   "metadata": {},
   "outputs": [],
   "source": [
    "1263 "
   ]
  },
  {
   "cell_type": "code",
   "execution_count": null,
   "metadata": {},
   "outputs": [],
   "source": []
  }
 ],
 "metadata": {
  "kernelspec": {
   "display_name": "Python 3",
   "language": "python",
   "name": "python3"
  },
  "language_info": {
   "codemirror_mode": {
    "name": "ipython",
    "version": 3
   },
   "file_extension": ".py",
   "mimetype": "text/x-python",
   "name": "python",
   "nbconvert_exporter": "python",
   "pygments_lexer": "ipython3",
   "version": "3.12.0"
  }
 },
 "nbformat": 4,
 "nbformat_minor": 2
}
