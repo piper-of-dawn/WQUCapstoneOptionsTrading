{
 "cells": [
  {
   "cell_type": "code",
   "execution_count": 2,
   "metadata": {},
   "outputs": [],
   "source": [
    "import polars as pl"
   ]
  },
  {
   "cell_type": "code",
   "execution_count": 4,
   "metadata": {},
   "outputs": [],
   "source": [
    "data = pl.read_csv(\"test.csv\")"
   ]
  },
  {
   "cell_type": "code",
   "execution_count": 15,
   "metadata": {},
   "outputs": [
    {
     "data": {
      "text/html": [
       "<div><style>\n",
       ".dataframe > thead > tr,\n",
       ".dataframe > tbody > tr {\n",
       "  text-align: right;\n",
       "  white-space: pre-wrap;\n",
       "}\n",
       "</style>\n",
       "<small>shape: (537_259, 18)</small><table border=\"1\" class=\"dataframe\"><thead><tr><th>contract</th><th>underlying</th><th>expiration</th><th>type</th><th>strike</th><th>style</th><th>bid</th><th>bid_size</th><th>ask</th><th>ask_size</th><th>volume</th><th>open_interest</th><th>quote_date</th><th>delta</th><th>gamma</th><th>theta</th><th>vega</th><th>implied_volatility</th></tr><tr><td>str</td><td>str</td><td>str</td><td>str</td><td>f64</td><td>str</td><td>f64</td><td>str</td><td>f64</td><td>str</td><td>i64</td><td>i64</td><td>str</td><td>f64</td><td>f64</td><td>f64</td><td>f64</td><td>f64</td></tr></thead><tbody><tr><td>&quot;A130622C00028000&quot;</td><td>&quot;A&quot;</td><td>&quot;2013-06-22&quot;</td><td>&quot;call&quot;</td><td>28.0</td><td>&quot;A&quot;</td><td>15.9</td><td>null</td><td>19.05</td><td>null</td><td>0</td><td>0</td><td>&quot;2013-06-03&quot;</td><td>0.9998</td><td>0.0</td><td>0.1114</td><td>0.0</td><td>0.3659</td></tr><tr><td>&quot;A130622P00028000&quot;</td><td>&quot;A&quot;</td><td>&quot;2013-06-22&quot;</td><td>&quot;put&quot;</td><td>28.0</td><td>&quot;A&quot;</td><td>0.0</td><td>null</td><td>0.01</td><td>null</td><td>0</td><td>107</td><td>&quot;2013-06-03&quot;</td><td>0.0</td><td>0.0</td><td>-0.0008</td><td>0.0002</td><td>0.4882</td></tr><tr><td>&quot;A130622C00029000&quot;</td><td>&quot;A&quot;</td><td>&quot;2013-06-22&quot;</td><td>&quot;call&quot;</td><td>29.0</td><td>&quot;A&quot;</td><td>16.0</td><td>null</td><td>16.6</td><td>null</td><td>0</td><td>0</td><td>&quot;2013-06-03&quot;</td><td>0.9998</td><td>0.0</td><td>0.1087</td><td>0.0</td><td>0.3659</td></tr><tr><td>&quot;A130622P00029000&quot;</td><td>&quot;A&quot;</td><td>&quot;2013-06-22&quot;</td><td>&quot;put&quot;</td><td>29.0</td><td>&quot;A&quot;</td><td>0.0</td><td>null</td><td>0.02</td><td>null</td><td>0</td><td>223</td><td>&quot;2013-06-03&quot;</td><td>0.0</td><td>0.0</td><td>-0.0033</td><td>0.0007</td><td>0.4882</td></tr><tr><td>&quot;A130622C00030000&quot;</td><td>&quot;A&quot;</td><td>&quot;2013-06-22&quot;</td><td>&quot;call&quot;</td><td>30.0</td><td>&quot;A&quot;</td><td>14.55</td><td>null</td><td>15.95</td><td>null</td><td>0</td><td>0</td><td>&quot;2013-06-03&quot;</td><td>0.9998</td><td>0.0</td><td>0.1059</td><td>0.0</td><td>0.3659</td></tr><tr><td>&hellip;</td><td>&hellip;</td><td>&hellip;</td><td>&hellip;</td><td>&hellip;</td><td>&hellip;</td><td>&hellip;</td><td>&hellip;</td><td>&hellip;</td><td>&hellip;</td><td>&hellip;</td><td>&hellip;</td><td>&hellip;</td><td>&hellip;</td><td>&hellip;</td><td>&hellip;</td><td>&hellip;</td><td>&hellip;</td></tr><tr><td>&quot;ZX131221P00002500&quot;</td><td>&quot;ZX&quot;</td><td>&quot;2013-12-21&quot;</td><td>&quot;put&quot;</td><td>2.5</td><td>&quot;A&quot;</td><td>0.4</td><td>null</td><td>0.5</td><td>null</td><td>0</td><td>0</td><td>&quot;2013-06-03&quot;</td><td>-0.3636</td><td>0.2821</td><td>-0.4658</td><td>0.728</td><td>0.6746</td></tr><tr><td>&quot;ZX131221C00005000&quot;</td><td>&quot;ZX&quot;</td><td>&quot;2013-12-21&quot;</td><td>&quot;call&quot;</td><td>5.0</td><td>&quot;A&quot;</td><td>0.0</td><td>null</td><td>0.2</td><td>null</td><td>0</td><td>21</td><td>&quot;2013-06-03&quot;</td><td>0.1669</td><td>0.1775</td><td>-0.3088</td><td>0.4869</td><td>0.717</td></tr><tr><td>&quot;ZX131221P00005000&quot;</td><td>&quot;ZX&quot;</td><td>&quot;2013-12-21&quot;</td><td>&quot;put&quot;</td><td>5.0</td><td>&quot;A&quot;</td><td>2.35</td><td>null</td><td>2.7</td><td>null</td><td>0</td><td>0</td><td>&quot;2013-06-03&quot;</td><td>-0.7822</td><td>0.1825</td><td>-0.4344</td><td>0.553</td><td>0.792</td></tr><tr><td>&quot;ZX131221C00007500&quot;</td><td>&quot;ZX&quot;</td><td>&quot;2013-12-21&quot;</td><td>&quot;call&quot;</td><td>7.5</td><td>&quot;A&quot;</td><td>0.0</td><td>null</td><td>0.1</td><td>null</td><td>0</td><td>0</td><td>&quot;2013-06-03&quot;</td><td>0.0833</td><td>0.0926</td><td>-0.2249</td><td>0.2988</td><td>0.8435</td></tr><tr><td>&quot;ZX131221P00007500&quot;</td><td>&quot;ZX&quot;</td><td>&quot;2013-12-21&quot;</td><td>&quot;put&quot;</td><td>7.5</td><td>&quot;A&quot;</td><td>4.8</td><td>null</td><td>5.1</td><td>null</td><td>0</td><td>24</td><td>&quot;2013-06-03&quot;</td><td>-0.8836</td><td>0.1023</td><td>-0.3217</td><td>0.3514</td><td>0.8983</td></tr></tbody></table></div>"
      ],
      "text/plain": [
       "shape: (537_259, 18)\n",
       "┌────────────────┬────────────┬────────────┬──────┬───┬────────┬─────────┬────────┬────────────────┐\n",
       "│ contract       ┆ underlying ┆ expiration ┆ type ┆ … ┆ gamma  ┆ theta   ┆ vega   ┆ implied_volati │\n",
       "│ ---            ┆ ---        ┆ ---        ┆ ---  ┆   ┆ ---    ┆ ---     ┆ ---    ┆ lity           │\n",
       "│ str            ┆ str        ┆ str        ┆ str  ┆   ┆ f64    ┆ f64     ┆ f64    ┆ ---            │\n",
       "│                ┆            ┆            ┆      ┆   ┆        ┆         ┆        ┆ f64            │\n",
       "╞════════════════╪════════════╪════════════╪══════╪═══╪════════╪═════════╪════════╪════════════════╡\n",
       "│ A130622C000280 ┆ A          ┆ 2013-06-22 ┆ call ┆ … ┆ 0.0    ┆ 0.1114  ┆ 0.0    ┆ 0.3659         │\n",
       "│ 00             ┆            ┆            ┆      ┆   ┆        ┆         ┆        ┆                │\n",
       "│ A130622P000280 ┆ A          ┆ 2013-06-22 ┆ put  ┆ … ┆ 0.0    ┆ -0.0008 ┆ 0.0002 ┆ 0.4882         │\n",
       "│ 00             ┆            ┆            ┆      ┆   ┆        ┆         ┆        ┆                │\n",
       "│ A130622C000290 ┆ A          ┆ 2013-06-22 ┆ call ┆ … ┆ 0.0    ┆ 0.1087  ┆ 0.0    ┆ 0.3659         │\n",
       "│ 00             ┆            ┆            ┆      ┆   ┆        ┆         ┆        ┆                │\n",
       "│ A130622P000290 ┆ A          ┆ 2013-06-22 ┆ put  ┆ … ┆ 0.0    ┆ -0.0033 ┆ 0.0007 ┆ 0.4882         │\n",
       "│ 00             ┆            ┆            ┆      ┆   ┆        ┆         ┆        ┆                │\n",
       "│ A130622C000300 ┆ A          ┆ 2013-06-22 ┆ call ┆ … ┆ 0.0    ┆ 0.1059  ┆ 0.0    ┆ 0.3659         │\n",
       "│ 00             ┆            ┆            ┆      ┆   ┆        ┆         ┆        ┆                │\n",
       "│ …              ┆ …          ┆ …          ┆ …    ┆ … ┆ …      ┆ …       ┆ …      ┆ …              │\n",
       "│ ZX131221P00002 ┆ ZX         ┆ 2013-12-21 ┆ put  ┆ … ┆ 0.2821 ┆ -0.4658 ┆ 0.728  ┆ 0.6746         │\n",
       "│ 500            ┆            ┆            ┆      ┆   ┆        ┆         ┆        ┆                │\n",
       "│ ZX131221C00005 ┆ ZX         ┆ 2013-12-21 ┆ call ┆ … ┆ 0.1775 ┆ -0.3088 ┆ 0.4869 ┆ 0.717          │\n",
       "│ 000            ┆            ┆            ┆      ┆   ┆        ┆         ┆        ┆                │\n",
       "│ ZX131221P00005 ┆ ZX         ┆ 2013-12-21 ┆ put  ┆ … ┆ 0.1825 ┆ -0.4344 ┆ 0.553  ┆ 0.792          │\n",
       "│ 000            ┆            ┆            ┆      ┆   ┆        ┆         ┆        ┆                │\n",
       "│ ZX131221C00007 ┆ ZX         ┆ 2013-12-21 ┆ call ┆ … ┆ 0.0926 ┆ -0.2249 ┆ 0.2988 ┆ 0.8435         │\n",
       "│ 500            ┆            ┆            ┆      ┆   ┆        ┆         ┆        ┆                │\n",
       "│ ZX131221P00007 ┆ ZX         ┆ 2013-12-21 ┆ put  ┆ … ┆ 0.1023 ┆ -0.3217 ┆ 0.3514 ┆ 0.8983         │\n",
       "│ 500            ┆            ┆            ┆      ┆   ┆        ┆         ┆        ┆                │\n",
       "└────────────────┴────────────┴────────────┴──────┴───┴────────┴─────────┴────────┴────────────────┘"
      ]
     },
     "execution_count": 15,
     "metadata": {},
     "output_type": "execute_result"
    }
   ],
   "source": [
    "data\n"
   ]
  },
  {
   "cell_type": "code",
   "execution_count": 7,
   "metadata": {},
   "outputs": [
    {
     "data": {
      "text/html": [
       "<div><style>\n",
       ".dataframe > thead > tr,\n",
       ".dataframe > tbody > tr {\n",
       "  text-align: right;\n",
       "  white-space: pre-wrap;\n",
       "}\n",
       "</style>\n",
       "<small>shape: (1, 18)</small><table border=\"1\" class=\"dataframe\"><thead><tr><th>contract</th><th>underlying</th><th>expiration</th><th>type</th><th>strike</th><th>style</th><th>bid</th><th>bid_size</th><th>ask</th><th>ask_size</th><th>volume</th><th>open_interest</th><th>quote_date</th><th>delta</th><th>gamma</th><th>theta</th><th>vega</th><th>implied_volatility</th></tr><tr><td>str</td><td>str</td><td>str</td><td>str</td><td>f64</td><td>str</td><td>f64</td><td>str</td><td>f64</td><td>str</td><td>i64</td><td>i64</td><td>str</td><td>f64</td><td>f64</td><td>f64</td><td>f64</td><td>f64</td></tr></thead><tbody><tr><td>&quot;A130622C00028000&quot;</td><td>&quot;A&quot;</td><td>&quot;2013-06-22&quot;</td><td>&quot;call&quot;</td><td>28.0</td><td>&quot;A&quot;</td><td>15.9</td><td>null</td><td>19.05</td><td>null</td><td>0</td><td>0</td><td>&quot;2013-06-03&quot;</td><td>0.9998</td><td>0.0</td><td>0.1114</td><td>0.0</td><td>0.3659</td></tr></tbody></table></div>"
      ],
      "text/plain": [
       "shape: (1, 18)\n",
       "┌──────────────────┬────────────┬────────────┬──────┬───┬───────┬────────┬──────┬──────────────────┐\n",
       "│ contract         ┆ underlying ┆ expiration ┆ type ┆ … ┆ gamma ┆ theta  ┆ vega ┆ implied_volatili │\n",
       "│ ---              ┆ ---        ┆ ---        ┆ ---  ┆   ┆ ---   ┆ ---    ┆ ---  ┆ ty               │\n",
       "│ str              ┆ str        ┆ str        ┆ str  ┆   ┆ f64   ┆ f64    ┆ f64  ┆ ---              │\n",
       "│                  ┆            ┆            ┆      ┆   ┆       ┆        ┆      ┆ f64              │\n",
       "╞══════════════════╪════════════╪════════════╪══════╪═══╪═══════╪════════╪══════╪══════════════════╡\n",
       "│ A130622C00028000 ┆ A          ┆ 2013-06-22 ┆ call ┆ … ┆ 0.0   ┆ 0.1114 ┆ 0.0  ┆ 0.3659           │\n",
       "└──────────────────┴────────────┴────────────┴──────┴───┴───────┴────────┴──────┴──────────────────┘"
      ]
     },
     "execution_count": 7,
     "metadata": {},
     "output_type": "execute_result"
    }
   ],
   "source": [
    "data.filter(pl.col('contract')=='A130622C00028000')"
   ]
  },
  {
   "cell_type": "code",
   "execution_count": 5,
   "metadata": {},
   "outputs": [],
   "source": [
    "data = pl.read_parquet(\"data.parquet\").with_columns(pl.col(c).str.to_date(\"%Y-%m-%d\") for c in ['date', 'expiration'])"
   ]
  },
  {
   "cell_type": "code",
   "execution_count": 8,
   "metadata": {},
   "outputs": [],
   "source": [
    "data.describe()"
   ]
  },
  {
   "cell_type": "code",
   "execution_count": 8,
   "metadata": {},
   "outputs": [
    {
     "data": {
      "text/html": [
       "<div><style>\n",
       ".dataframe > thead > tr,\n",
       ".dataframe > tbody > tr {\n",
       "  text-align: right;\n",
       "  white-space: pre-wrap;\n",
       "}\n",
       "</style>\n",
       "<small>shape: (32_952, 13)</small><table border=\"1\" class=\"dataframe\"><thead><tr><th>date</th><th>act_symbol</th><th>expiration</th><th>strike</th><th>call_put</th><th>bid</th><th>ask</th><th>vol</th><th>delta</th><th>gamma</th><th>theta</th><th>vega</th><th>rho</th></tr><tr><td>str</td><td>str</td><td>str</td><td>f64</td><td>str</td><td>f64</td><td>f64</td><td>f64</td><td>f64</td><td>f64</td><td>f64</td><td>f64</td><td>f64</td></tr></thead><tbody><tr><td>&quot;2019-02-09&quot;</td><td>&quot;A&quot;</td><td>&quot;2019-03-15&quot;</td><td>65.0</td><td>&quot;Call&quot;</td><td>11.05</td><td>11.35</td><td>0.3457</td><td>0.9349</td><td>0.0157</td><td>-0.0189</td><td>0.0298</td><td>0.0571</td></tr><tr><td>&quot;2019-02-09&quot;</td><td>&quot;A&quot;</td><td>&quot;2019-03-15&quot;</td><td>65.0</td><td>&quot;Put&quot;</td><td>0.2</td><td>0.24</td><td>0.3386</td><td>-0.0613</td><td>0.0153</td><td>-0.0135</td><td>0.0291</td><td>-0.0044</td></tr><tr><td>&quot;2019-02-09&quot;</td><td>&quot;A&quot;</td><td>&quot;2019-03-15&quot;</td><td>67.5</td><td>&quot;Call&quot;</td><td>8.75</td><td>9.0</td><td>0.3222</td><td>0.8921</td><td>0.0245</td><td>-0.0242</td><td>0.0435</td><td>0.0562</td></tr><tr><td>&quot;2019-02-09&quot;</td><td>&quot;A&quot;</td><td>&quot;2019-03-15&quot;</td><td>67.5</td><td>&quot;Put&quot;</td><td>0.38</td><td>0.43</td><td>0.321</td><td>-0.1071</td><td>0.0246</td><td>-0.0194</td><td>0.0442</td><td>-0.0076</td></tr><tr><td>&quot;2019-02-09&quot;</td><td>&quot;A&quot;</td><td>&quot;2019-03-15&quot;</td><td>70.0</td><td>&quot;Call&quot;</td><td>6.55</td><td>6.8</td><td>0.3009</td><td>0.8233</td><td>0.0368</td><td>-0.0301</td><td>0.0608</td><td>0.0534</td></tr><tr><td>&hellip;</td><td>&hellip;</td><td>&hellip;</td><td>&hellip;</td><td>&hellip;</td><td>&hellip;</td><td>&hellip;</td><td>&hellip;</td><td>&hellip;</td><td>&hellip;</td><td>&hellip;</td><td>&hellip;</td><td>&hellip;</td></tr><tr><td>&quot;2019-03-16&quot;</td><td>&quot;ZION&quot;</td><td>&quot;2019-03-15&quot;</td><td>50.0</td><td>&quot;Put&quot;</td><td>0.13</td><td>0.93</td><td>0.1942</td><td>0.0</td><td>0.0</td><td>0.0</td><td>0.0</td><td>0.0</td></tr><tr><td>&quot;2019-03-16&quot;</td><td>&quot;ZION&quot;</td><td>&quot;2019-03-15&quot;</td><td>52.5</td><td>&quot;Call&quot;</td><td>0.0</td><td>0.23</td><td>0.1839</td><td>0.0</td><td>0.0</td><td>0.0</td><td>0.0</td><td>0.0</td></tr><tr><td>&quot;2019-03-16&quot;</td><td>&quot;ZION&quot;</td><td>&quot;2019-03-15&quot;</td><td>52.5</td><td>&quot;Put&quot;</td><td>1.42</td><td>5.45</td><td>0.245</td><td>0.0</td><td>0.0</td><td>0.0</td><td>0.0</td><td>0.0</td></tr><tr><td>&quot;2019-03-16&quot;</td><td>&quot;ZION&quot;</td><td>&quot;2019-03-15&quot;</td><td>55.0</td><td>&quot;Call&quot;</td><td>0.0</td><td>4.75</td><td>0.1839</td><td>0.0</td><td>0.0</td><td>0.0</td><td>0.0</td><td>0.0</td></tr><tr><td>&quot;2019-03-16&quot;</td><td>&quot;ZION&quot;</td><td>&quot;2019-03-15&quot;</td><td>55.0</td><td>&quot;Put&quot;</td><td>3.55</td><td>7.95</td><td>0.245</td><td>0.0</td><td>0.0</td><td>0.0</td><td>0.0</td><td>0.0</td></tr></tbody></table></div>"
      ],
      "text/plain": [
       "shape: (32_952, 13)\n",
       "┌────────────┬────────────┬────────────┬────────┬───┬────────┬─────────┬────────┬─────────┐\n",
       "│ date       ┆ act_symbol ┆ expiration ┆ strike ┆ … ┆ gamma  ┆ theta   ┆ vega   ┆ rho     │\n",
       "│ ---        ┆ ---        ┆ ---        ┆ ---    ┆   ┆ ---    ┆ ---     ┆ ---    ┆ ---     │\n",
       "│ str        ┆ str        ┆ str        ┆ f64    ┆   ┆ f64    ┆ f64     ┆ f64    ┆ f64     │\n",
       "╞════════════╪════════════╪════════════╪════════╪═══╪════════╪═════════╪════════╪═════════╡\n",
       "│ 2019-02-09 ┆ A          ┆ 2019-03-15 ┆ 65.0   ┆ … ┆ 0.0157 ┆ -0.0189 ┆ 0.0298 ┆ 0.0571  │\n",
       "│ 2019-02-09 ┆ A          ┆ 2019-03-15 ┆ 65.0   ┆ … ┆ 0.0153 ┆ -0.0135 ┆ 0.0291 ┆ -0.0044 │\n",
       "│ 2019-02-09 ┆ A          ┆ 2019-03-15 ┆ 67.5   ┆ … ┆ 0.0245 ┆ -0.0242 ┆ 0.0435 ┆ 0.0562  │\n",
       "│ 2019-02-09 ┆ A          ┆ 2019-03-15 ┆ 67.5   ┆ … ┆ 0.0246 ┆ -0.0194 ┆ 0.0442 ┆ -0.0076 │\n",
       "│ 2019-02-09 ┆ A          ┆ 2019-03-15 ┆ 70.0   ┆ … ┆ 0.0368 ┆ -0.0301 ┆ 0.0608 ┆ 0.0534  │\n",
       "│ …          ┆ …          ┆ …          ┆ …      ┆ … ┆ …      ┆ …       ┆ …      ┆ …       │\n",
       "│ 2019-03-16 ┆ ZION       ┆ 2019-03-15 ┆ 50.0   ┆ … ┆ 0.0    ┆ 0.0     ┆ 0.0    ┆ 0.0     │\n",
       "│ 2019-03-16 ┆ ZION       ┆ 2019-03-15 ┆ 52.5   ┆ … ┆ 0.0    ┆ 0.0     ┆ 0.0    ┆ 0.0     │\n",
       "│ 2019-03-16 ┆ ZION       ┆ 2019-03-15 ┆ 52.5   ┆ … ┆ 0.0    ┆ 0.0     ┆ 0.0    ┆ 0.0     │\n",
       "│ 2019-03-16 ┆ ZION       ┆ 2019-03-15 ┆ 55.0   ┆ … ┆ 0.0    ┆ 0.0     ┆ 0.0    ┆ 0.0     │\n",
       "│ 2019-03-16 ┆ ZION       ┆ 2019-03-15 ┆ 55.0   ┆ … ┆ 0.0    ┆ 0.0     ┆ 0.0    ┆ 0.0     │\n",
       "└────────────┴────────────┴────────────┴────────┴───┴────────┴─────────┴────────┴─────────┘"
      ]
     },
     "execution_count": 8,
     "metadata": {},
     "output_type": "execute_result"
    }
   ],
   "source": [
    "data.filter(pl.col('expiration')==\"2019-03-15\")"
   ]
  },
  {
   "cell_type": "code",
   "execution_count": null,
   "metadata": {},
   "outputs": [],
   "source": []
  }
 ],
 "metadata": {
  "kernelspec": {
   "display_name": "Python 3",
   "language": "python",
   "name": "python3"
  },
  "language_info": {
   "codemirror_mode": {
    "name": "ipython",
    "version": 3
   },
   "file_extension": ".py",
   "mimetype": "text/x-python",
   "name": "python",
   "nbconvert_exporter": "python",
   "pygments_lexer": "ipython3",
   "version": "3.12.0"
  }
 },
 "nbformat": 4,
 "nbformat_minor": 2
}
