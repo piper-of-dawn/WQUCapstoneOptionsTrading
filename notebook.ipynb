{
 "cells": [
  {
   "cell_type": "code",
   "execution_count": 2,
   "metadata": {},
   "outputs": [],
   "source": [
    "import polars as pl"
   ]
  },
  {
   "cell_type": "code",
   "execution_count": 4,
   "metadata": {},
   "outputs": [],
   "source": [
    "data = pl.read_csv(\"test.csv\")"
   ]
  },
  {
   "cell_type": "code",
   "execution_count": 14,
   "metadata": {},
   "outputs": [
    {
     "data": {
      "text/html": [
       "<div><style>\n",
       ".dataframe > thead > tr,\n",
       ".dataframe > tbody > tr {\n",
       "  text-align: right;\n",
       "  white-space: pre-wrap;\n",
       "}\n",
       "</style>\n",
       "<small>shape: (722, 18)</small><table border=\"1\" class=\"dataframe\"><thead><tr><th>contract</th><th>underlying</th><th>expiration</th><th>type</th><th>strike</th><th>style</th><th>bid</th><th>bid_size</th><th>ask</th><th>ask_size</th><th>volume</th><th>open_interest</th><th>quote_date</th><th>delta</th><th>gamma</th><th>theta</th><th>vega</th><th>implied_volatility</th></tr><tr><td>str</td><td>str</td><td>str</td><td>str</td><td>f64</td><td>str</td><td>f64</td><td>str</td><td>f64</td><td>str</td><td>i64</td><td>i64</td><td>str</td><td>f64</td><td>f64</td><td>f64</td><td>f64</td><td>f64</td></tr></thead><tbody><tr><td>&quot;TSLA130607C00075000&quot;</td><td>&quot;TSLA&quot;</td><td>&quot;2013-06-07&quot;</td><td>&quot;call&quot;</td><td>75.0</td><td>&quot;A&quot;</td><td>17.4</td><td>null</td><td>18.4</td><td>null</td><td>20</td><td>0</td><td>&quot;2013-06-03&quot;</td><td>0.9772</td><td>0.0054</td><td>-29.8658</td><td>0.4781</td><td>1.1334</td></tr><tr><td>&quot;TSLA130607P00075000&quot;</td><td>&quot;TSLA&quot;</td><td>&quot;2013-06-07&quot;</td><td>&quot;put&quot;</td><td>75.0</td><td>&quot;A&quot;</td><td>0.1</td><td>null</td><td>0.2</td><td>null</td><td>1184</td><td>17</td><td>&quot;2013-06-03&quot;</td><td>-0.0325</td><td>0.0067</td><td>-43.4636</td><td>0.6432</td><td>1.2344</td></tr><tr><td>&quot;TSLA130607C00080000&quot;</td><td>&quot;TSLA&quot;</td><td>&quot;2013-06-07&quot;</td><td>&quot;call&quot;</td><td>80.0</td><td>&quot;A&quot;</td><td>12.7</td><td>null</td><td>13.4</td><td>null</td><td>110</td><td>18</td><td>&quot;2013-06-03&quot;</td><td>0.9198</td><td>0.0149</td><td>-81.9742</td><td>1.3178</td><td>1.1334</td></tr><tr><td>&quot;TSLA130607P00080000&quot;</td><td>&quot;TSLA&quot;</td><td>&quot;2013-06-07&quot;</td><td>&quot;put&quot;</td><td>80.0</td><td>&quot;A&quot;</td><td>0.4</td><td>null</td><td>0.45</td><td>null</td><td>4582</td><td>338</td><td>&quot;2013-06-03&quot;</td><td>-0.0857</td><td>0.0152</td><td>-88.3482</td><td>1.3848</td><td>1.1656</td></tr><tr><td>&quot;TSLA130607C00085000&quot;</td><td>&quot;TSLA&quot;</td><td>&quot;2013-06-07&quot;</td><td>&quot;call&quot;</td><td>85.0</td><td>&quot;A&quot;</td><td>8.5</td><td>null</td><td>8.8</td><td>null</td><td>427</td><td>19</td><td>&quot;2013-06-03&quot;</td><td>0.8098</td><td>0.0283</td><td>-142.8435</td><td>2.4025</td><td>1.0846</td></tr><tr><td>&hellip;</td><td>&hellip;</td><td>&hellip;</td><td>&hellip;</td><td>&hellip;</td><td>&hellip;</td><td>&hellip;</td><td>&hellip;</td><td>&hellip;</td><td>&hellip;</td><td>&hellip;</td><td>&hellip;</td><td>&hellip;</td><td>&hellip;</td><td>&hellip;</td><td>&hellip;</td><td>&hellip;</td><td>&hellip;</td></tr><tr><td>&quot;TSLA150117P00160000&quot;</td><td>&quot;TSLA&quot;</td><td>&quot;2015-01-17&quot;</td><td>&quot;put&quot;</td><td>160.0</td><td>&quot;A&quot;</td><td>81.7</td><td>null</td><td>82.9</td><td>null</td><td>0</td><td>3</td><td>&quot;2013-06-03&quot;</td><td>-0.6102</td><td>0.005</td><td>-9.1218</td><td>42.6195</td><td>0.6186</td></tr><tr><td>&quot;TSLA150117C00165000&quot;</td><td>&quot;TSLA&quot;</td><td>&quot;2015-01-17&quot;</td><td>&quot;call&quot;</td><td>165.0</td><td>&quot;A&quot;</td><td>11.7</td><td>null</td><td>12.6</td><td>null</td><td>5</td><td>268</td><td>&quot;2013-06-03&quot;</td><td>0.3492</td><td>0.0047</td><td>-7.6167</td><td>42.5477</td><td>0.637</td></tr><tr><td>&quot;TSLA150117P00165000&quot;</td><td>&quot;TSLA&quot;</td><td>&quot;2015-01-17&quot;</td><td>&quot;put&quot;</td><td>165.0</td><td>&quot;A&quot;</td><td>86.0</td><td>null</td><td>87.3</td><td>null</td><td>0</td><td>6</td><td>&quot;2013-06-03&quot;</td><td>-0.6243</td><td>0.0049</td><td>-9.0198</td><td>42.0115</td><td>0.6183</td></tr><tr><td>&quot;TSLA150117C00170000&quot;</td><td>&quot;TSLA&quot;</td><td>&quot;2015-01-17&quot;</td><td>&quot;call&quot;</td><td>170.0</td><td>&quot;A&quot;</td><td>11.2</td><td>null</td><td>11.5</td><td>null</td><td>346</td><td>145</td><td>&quot;2013-06-03&quot;</td><td>0.3327</td><td>0.0047</td><td>-7.4449</td><td>41.8207</td><td>0.632</td></tr><tr><td>&quot;TSLA150117P00170000&quot;</td><td>&quot;TSLA&quot;</td><td>&quot;2015-01-17&quot;</td><td>&quot;put&quot;</td><td>170.0</td><td>&quot;A&quot;</td><td>90.5</td><td>null</td><td>91.9</td><td>null</td><td>0</td><td>1</td><td>&quot;2013-06-03&quot;</td><td>-0.6352</td><td>0.0047</td><td>-8.9789</td><td>41.4997</td><td>0.6221</td></tr></tbody></table></div>"
      ],
      "text/plain": [
       "shape: (722, 18)\n",
       "┌───────────────┬────────────┬────────────┬──────┬───┬────────┬───────────┬─────────┬──────────────┐\n",
       "│ contract      ┆ underlying ┆ expiration ┆ type ┆ … ┆ gamma  ┆ theta     ┆ vega    ┆ implied_vola │\n",
       "│ ---           ┆ ---        ┆ ---        ┆ ---  ┆   ┆ ---    ┆ ---       ┆ ---     ┆ tility       │\n",
       "│ str           ┆ str        ┆ str        ┆ str  ┆   ┆ f64    ┆ f64       ┆ f64     ┆ ---          │\n",
       "│               ┆            ┆            ┆      ┆   ┆        ┆           ┆         ┆ f64          │\n",
       "╞═══════════════╪════════════╪════════════╪══════╪═══╪════════╪═══════════╪═════════╪══════════════╡\n",
       "│ TSLA130607C00 ┆ TSLA       ┆ 2013-06-07 ┆ call ┆ … ┆ 0.0054 ┆ -29.8658  ┆ 0.4781  ┆ 1.1334       │\n",
       "│ 075000        ┆            ┆            ┆      ┆   ┆        ┆           ┆         ┆              │\n",
       "│ TSLA130607P00 ┆ TSLA       ┆ 2013-06-07 ┆ put  ┆ … ┆ 0.0067 ┆ -43.4636  ┆ 0.6432  ┆ 1.2344       │\n",
       "│ 075000        ┆            ┆            ┆      ┆   ┆        ┆           ┆         ┆              │\n",
       "│ TSLA130607C00 ┆ TSLA       ┆ 2013-06-07 ┆ call ┆ … ┆ 0.0149 ┆ -81.9742  ┆ 1.3178  ┆ 1.1334       │\n",
       "│ 080000        ┆            ┆            ┆      ┆   ┆        ┆           ┆         ┆              │\n",
       "│ TSLA130607P00 ┆ TSLA       ┆ 2013-06-07 ┆ put  ┆ … ┆ 0.0152 ┆ -88.3482  ┆ 1.3848  ┆ 1.1656       │\n",
       "│ 080000        ┆            ┆            ┆      ┆   ┆        ┆           ┆         ┆              │\n",
       "│ TSLA130607C00 ┆ TSLA       ┆ 2013-06-07 ┆ call ┆ … ┆ 0.0283 ┆ -142.8435 ┆ 2.4025  ┆ 1.0846       │\n",
       "│ 085000        ┆            ┆            ┆      ┆   ┆        ┆           ┆         ┆              │\n",
       "│ …             ┆ …          ┆ …          ┆ …    ┆ … ┆ …      ┆ …         ┆ …       ┆ …            │\n",
       "│ TSLA150117P00 ┆ TSLA       ┆ 2015-01-17 ┆ put  ┆ … ┆ 0.005  ┆ -9.1218   ┆ 42.6195 ┆ 0.6186       │\n",
       "│ 160000        ┆            ┆            ┆      ┆   ┆        ┆           ┆         ┆              │\n",
       "│ TSLA150117C00 ┆ TSLA       ┆ 2015-01-17 ┆ call ┆ … ┆ 0.0047 ┆ -7.6167   ┆ 42.5477 ┆ 0.637        │\n",
       "│ 165000        ┆            ┆            ┆      ┆   ┆        ┆           ┆         ┆              │\n",
       "│ TSLA150117P00 ┆ TSLA       ┆ 2015-01-17 ┆ put  ┆ … ┆ 0.0049 ┆ -9.0198   ┆ 42.0115 ┆ 0.6183       │\n",
       "│ 165000        ┆            ┆            ┆      ┆   ┆        ┆           ┆         ┆              │\n",
       "│ TSLA150117C00 ┆ TSLA       ┆ 2015-01-17 ┆ call ┆ … ┆ 0.0047 ┆ -7.4449   ┆ 41.8207 ┆ 0.632        │\n",
       "│ 170000        ┆            ┆            ┆      ┆   ┆        ┆           ┆         ┆              │\n",
       "│ TSLA150117P00 ┆ TSLA       ┆ 2015-01-17 ┆ put  ┆ … ┆ 0.0047 ┆ -8.9789   ┆ 41.4997 ┆ 0.6221       │\n",
       "│ 170000        ┆            ┆            ┆      ┆   ┆        ┆           ┆         ┆              │\n",
       "└───────────────┴────────────┴────────────┴──────┴───┴────────┴───────────┴─────────┴──────────────┘"
      ]
     },
     "execution_count": 14,
     "metadata": {},
     "output_type": "execute_result"
    }
   ],
   "source": [
    "data.filter(pl.col('underlying')=='TSLA')"
   ]
  },
  {
   "cell_type": "code",
   "execution_count": 7,
   "metadata": {},
   "outputs": [
    {
     "data": {
      "text/html": [
       "<div><style>\n",
       ".dataframe > thead > tr,\n",
       ".dataframe > tbody > tr {\n",
       "  text-align: right;\n",
       "  white-space: pre-wrap;\n",
       "}\n",
       "</style>\n",
       "<small>shape: (1, 18)</small><table border=\"1\" class=\"dataframe\"><thead><tr><th>contract</th><th>underlying</th><th>expiration</th><th>type</th><th>strike</th><th>style</th><th>bid</th><th>bid_size</th><th>ask</th><th>ask_size</th><th>volume</th><th>open_interest</th><th>quote_date</th><th>delta</th><th>gamma</th><th>theta</th><th>vega</th><th>implied_volatility</th></tr><tr><td>str</td><td>str</td><td>str</td><td>str</td><td>f64</td><td>str</td><td>f64</td><td>str</td><td>f64</td><td>str</td><td>i64</td><td>i64</td><td>str</td><td>f64</td><td>f64</td><td>f64</td><td>f64</td><td>f64</td></tr></thead><tbody><tr><td>&quot;A130622C00028000&quot;</td><td>&quot;A&quot;</td><td>&quot;2013-06-22&quot;</td><td>&quot;call&quot;</td><td>28.0</td><td>&quot;A&quot;</td><td>15.9</td><td>null</td><td>19.05</td><td>null</td><td>0</td><td>0</td><td>&quot;2013-06-03&quot;</td><td>0.9998</td><td>0.0</td><td>0.1114</td><td>0.0</td><td>0.3659</td></tr></tbody></table></div>"
      ],
      "text/plain": [
       "shape: (1, 18)\n",
       "┌──────────────────┬────────────┬────────────┬──────┬───┬───────┬────────┬──────┬──────────────────┐\n",
       "│ contract         ┆ underlying ┆ expiration ┆ type ┆ … ┆ gamma ┆ theta  ┆ vega ┆ implied_volatili │\n",
       "│ ---              ┆ ---        ┆ ---        ┆ ---  ┆   ┆ ---   ┆ ---    ┆ ---  ┆ ty               │\n",
       "│ str              ┆ str        ┆ str        ┆ str  ┆   ┆ f64   ┆ f64    ┆ f64  ┆ ---              │\n",
       "│                  ┆            ┆            ┆      ┆   ┆       ┆        ┆      ┆ f64              │\n",
       "╞══════════════════╪════════════╪════════════╪══════╪═══╪═══════╪════════╪══════╪══════════════════╡\n",
       "│ A130622C00028000 ┆ A          ┆ 2013-06-22 ┆ call ┆ … ┆ 0.0   ┆ 0.1114 ┆ 0.0  ┆ 0.3659           │\n",
       "└──────────────────┴────────────┴────────────┴──────┴───┴───────┴────────┴──────┴──────────────────┘"
      ]
     },
     "execution_count": 7,
     "metadata": {},
     "output_type": "execute_result"
    }
   ],
   "source": [
    "data.filter(pl.col('contract')=='A130622C00028000')"
   ]
  },
  {
   "cell_type": "code",
   "execution_count": 5,
   "metadata": {},
   "outputs": [],
   "source": [
    "data = pl.read_parquet(\"data.parquet\").with_columns(pl.col(c).str.to_date(\"%Y-%m-%d\") for c in ['date', 'expiration'])"
   ]
  },
  {
   "cell_type": "code",
   "execution_count": 8,
   "metadata": {},
   "outputs": [],
   "source": [
    "data.describe()"
   ]
  },
  {
   "cell_type": "code",
   "execution_count": 8,
   "metadata": {},
   "outputs": [
    {
     "data": {
      "text/html": [
       "<div><style>\n",
       ".dataframe > thead > tr,\n",
       ".dataframe > tbody > tr {\n",
       "  text-align: right;\n",
       "  white-space: pre-wrap;\n",
       "}\n",
       "</style>\n",
       "<small>shape: (32_952, 13)</small><table border=\"1\" class=\"dataframe\"><thead><tr><th>date</th><th>act_symbol</th><th>expiration</th><th>strike</th><th>call_put</th><th>bid</th><th>ask</th><th>vol</th><th>delta</th><th>gamma</th><th>theta</th><th>vega</th><th>rho</th></tr><tr><td>str</td><td>str</td><td>str</td><td>f64</td><td>str</td><td>f64</td><td>f64</td><td>f64</td><td>f64</td><td>f64</td><td>f64</td><td>f64</td><td>f64</td></tr></thead><tbody><tr><td>&quot;2019-02-09&quot;</td><td>&quot;A&quot;</td><td>&quot;2019-03-15&quot;</td><td>65.0</td><td>&quot;Call&quot;</td><td>11.05</td><td>11.35</td><td>0.3457</td><td>0.9349</td><td>0.0157</td><td>-0.0189</td><td>0.0298</td><td>0.0571</td></tr><tr><td>&quot;2019-02-09&quot;</td><td>&quot;A&quot;</td><td>&quot;2019-03-15&quot;</td><td>65.0</td><td>&quot;Put&quot;</td><td>0.2</td><td>0.24</td><td>0.3386</td><td>-0.0613</td><td>0.0153</td><td>-0.0135</td><td>0.0291</td><td>-0.0044</td></tr><tr><td>&quot;2019-02-09&quot;</td><td>&quot;A&quot;</td><td>&quot;2019-03-15&quot;</td><td>67.5</td><td>&quot;Call&quot;</td><td>8.75</td><td>9.0</td><td>0.3222</td><td>0.8921</td><td>0.0245</td><td>-0.0242</td><td>0.0435</td><td>0.0562</td></tr><tr><td>&quot;2019-02-09&quot;</td><td>&quot;A&quot;</td><td>&quot;2019-03-15&quot;</td><td>67.5</td><td>&quot;Put&quot;</td><td>0.38</td><td>0.43</td><td>0.321</td><td>-0.1071</td><td>0.0246</td><td>-0.0194</td><td>0.0442</td><td>-0.0076</td></tr><tr><td>&quot;2019-02-09&quot;</td><td>&quot;A&quot;</td><td>&quot;2019-03-15&quot;</td><td>70.0</td><td>&quot;Call&quot;</td><td>6.55</td><td>6.8</td><td>0.3009</td><td>0.8233</td><td>0.0368</td><td>-0.0301</td><td>0.0608</td><td>0.0534</td></tr><tr><td>&hellip;</td><td>&hellip;</td><td>&hellip;</td><td>&hellip;</td><td>&hellip;</td><td>&hellip;</td><td>&hellip;</td><td>&hellip;</td><td>&hellip;</td><td>&hellip;</td><td>&hellip;</td><td>&hellip;</td><td>&hellip;</td></tr><tr><td>&quot;2019-03-16&quot;</td><td>&quot;ZION&quot;</td><td>&quot;2019-03-15&quot;</td><td>50.0</td><td>&quot;Put&quot;</td><td>0.13</td><td>0.93</td><td>0.1942</td><td>0.0</td><td>0.0</td><td>0.0</td><td>0.0</td><td>0.0</td></tr><tr><td>&quot;2019-03-16&quot;</td><td>&quot;ZION&quot;</td><td>&quot;2019-03-15&quot;</td><td>52.5</td><td>&quot;Call&quot;</td><td>0.0</td><td>0.23</td><td>0.1839</td><td>0.0</td><td>0.0</td><td>0.0</td><td>0.0</td><td>0.0</td></tr><tr><td>&quot;2019-03-16&quot;</td><td>&quot;ZION&quot;</td><td>&quot;2019-03-15&quot;</td><td>52.5</td><td>&quot;Put&quot;</td><td>1.42</td><td>5.45</td><td>0.245</td><td>0.0</td><td>0.0</td><td>0.0</td><td>0.0</td><td>0.0</td></tr><tr><td>&quot;2019-03-16&quot;</td><td>&quot;ZION&quot;</td><td>&quot;2019-03-15&quot;</td><td>55.0</td><td>&quot;Call&quot;</td><td>0.0</td><td>4.75</td><td>0.1839</td><td>0.0</td><td>0.0</td><td>0.0</td><td>0.0</td><td>0.0</td></tr><tr><td>&quot;2019-03-16&quot;</td><td>&quot;ZION&quot;</td><td>&quot;2019-03-15&quot;</td><td>55.0</td><td>&quot;Put&quot;</td><td>3.55</td><td>7.95</td><td>0.245</td><td>0.0</td><td>0.0</td><td>0.0</td><td>0.0</td><td>0.0</td></tr></tbody></table></div>"
      ],
      "text/plain": [
       "shape: (32_952, 13)\n",
       "┌────────────┬────────────┬────────────┬────────┬───┬────────┬─────────┬────────┬─────────┐\n",
       "│ date       ┆ act_symbol ┆ expiration ┆ strike ┆ … ┆ gamma  ┆ theta   ┆ vega   ┆ rho     │\n",
       "│ ---        ┆ ---        ┆ ---        ┆ ---    ┆   ┆ ---    ┆ ---     ┆ ---    ┆ ---     │\n",
       "│ str        ┆ str        ┆ str        ┆ f64    ┆   ┆ f64    ┆ f64     ┆ f64    ┆ f64     │\n",
       "╞════════════╪════════════╪════════════╪════════╪═══╪════════╪═════════╪════════╪═════════╡\n",
       "│ 2019-02-09 ┆ A          ┆ 2019-03-15 ┆ 65.0   ┆ … ┆ 0.0157 ┆ -0.0189 ┆ 0.0298 ┆ 0.0571  │\n",
       "│ 2019-02-09 ┆ A          ┆ 2019-03-15 ┆ 65.0   ┆ … ┆ 0.0153 ┆ -0.0135 ┆ 0.0291 ┆ -0.0044 │\n",
       "│ 2019-02-09 ┆ A          ┆ 2019-03-15 ┆ 67.5   ┆ … ┆ 0.0245 ┆ -0.0242 ┆ 0.0435 ┆ 0.0562  │\n",
       "│ 2019-02-09 ┆ A          ┆ 2019-03-15 ┆ 67.5   ┆ … ┆ 0.0246 ┆ -0.0194 ┆ 0.0442 ┆ -0.0076 │\n",
       "│ 2019-02-09 ┆ A          ┆ 2019-03-15 ┆ 70.0   ┆ … ┆ 0.0368 ┆ -0.0301 ┆ 0.0608 ┆ 0.0534  │\n",
       "│ …          ┆ …          ┆ …          ┆ …      ┆ … ┆ …      ┆ …       ┆ …      ┆ …       │\n",
       "│ 2019-03-16 ┆ ZION       ┆ 2019-03-15 ┆ 50.0   ┆ … ┆ 0.0    ┆ 0.0     ┆ 0.0    ┆ 0.0     │\n",
       "│ 2019-03-16 ┆ ZION       ┆ 2019-03-15 ┆ 52.5   ┆ … ┆ 0.0    ┆ 0.0     ┆ 0.0    ┆ 0.0     │\n",
       "│ 2019-03-16 ┆ ZION       ┆ 2019-03-15 ┆ 52.5   ┆ … ┆ 0.0    ┆ 0.0     ┆ 0.0    ┆ 0.0     │\n",
       "│ 2019-03-16 ┆ ZION       ┆ 2019-03-15 ┆ 55.0   ┆ … ┆ 0.0    ┆ 0.0     ┆ 0.0    ┆ 0.0     │\n",
       "│ 2019-03-16 ┆ ZION       ┆ 2019-03-15 ┆ 55.0   ┆ … ┆ 0.0    ┆ 0.0     ┆ 0.0    ┆ 0.0     │\n",
       "└────────────┴────────────┴────────────┴────────┴───┴────────┴─────────┴────────┴─────────┘"
      ]
     },
     "execution_count": 8,
     "metadata": {},
     "output_type": "execute_result"
    }
   ],
   "source": [
    "data.filter(pl.col('expiration')==\"2019-03-15\")"
   ]
  },
  {
   "cell_type": "code",
   "execution_count": null,
   "metadata": {},
   "outputs": [],
   "source": []
  }
 ],
 "metadata": {
  "kernelspec": {
   "display_name": "Python 3",
   "language": "python",
   "name": "python3"
  },
  "language_info": {
   "codemirror_mode": {
    "name": "ipython",
    "version": 3
   },
   "file_extension": ".py",
   "mimetype": "text/x-python",
   "name": "python",
   "nbconvert_exporter": "python",
   "pygments_lexer": "ipython3",
   "version": "3.12.0"
  }
 },
 "nbformat": 4,
 "nbformat_minor": 2
}
